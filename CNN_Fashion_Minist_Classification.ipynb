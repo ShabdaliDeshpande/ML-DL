{
  "nbformat": 4,
  "nbformat_minor": 0,
  "metadata": {
    "colab": {
      "name": "CNN_Fashion_Minist_Classification.ipynb",
      "provenance": []
    },
    "kernelspec": {
      "name": "python3",
      "display_name": "Python 3"
    },
    "language_info": {
      "name": "python"
    },
    "accelerator": "GPU",
    "gpuClass": "standard"
  },
  "cells": [
    {
      "cell_type": "markdown",
      "source": [
        ""
      ],
      "metadata": {
        "id": "E5np40xJyLUh"
      }
    },
    {
      "cell_type": "markdown",
      "source": [
        "Libraries and Platforms"
      ],
      "metadata": {
        "id": "mkTH1ehoyNIu"
      }
    },
    {
      "cell_type": "code",
      "execution_count": 16,
      "metadata": {
        "id": "AK-Yl-SSEmCg"
      },
      "outputs": [],
      "source": [
        "import tensorflow as tf\n",
        "from tensorflow import keras\n",
        "from keras import layers\n",
        "import numpy as np\n",
        "import matplotlib.pyplot as plt"
      ]
    },
    {
      "cell_type": "markdown",
      "source": [
        "Calling Datasets And Preprocessing"
      ],
      "metadata": {
        "id": "pnF4_Gm6yBWx"
      }
    },
    {
      "cell_type": "code",
      "source": [
        "(X_train,y_train),(X_test,y_test) = keras.datasets.fashion_mnist.load_data()"
      ],
      "metadata": {
        "colab": {
          "base_uri": "https://localhost:8080/"
        },
        "id": "Q6brbFXuFHmz",
        "outputId": "6874cc06-cc82-47d8-fc31-5f47b6ee57d7"
      },
      "execution_count": 2,
      "outputs": [
        {
          "output_type": "stream",
          "name": "stdout",
          "text": [
            "Downloading data from https://storage.googleapis.com/tensorflow/tf-keras-datasets/train-labels-idx1-ubyte.gz\n",
            "32768/29515 [=================================] - 0s 0us/step\n",
            "40960/29515 [=========================================] - 0s 0us/step\n",
            "Downloading data from https://storage.googleapis.com/tensorflow/tf-keras-datasets/train-images-idx3-ubyte.gz\n",
            "26427392/26421880 [==============================] - 0s 0us/step\n",
            "26435584/26421880 [==============================] - 0s 0us/step\n",
            "Downloading data from https://storage.googleapis.com/tensorflow/tf-keras-datasets/t10k-labels-idx1-ubyte.gz\n",
            "16384/5148 [===============================================================================================] - 0s 0us/step\n",
            "Downloading data from https://storage.googleapis.com/tensorflow/tf-keras-datasets/t10k-images-idx3-ubyte.gz\n",
            "4423680/4422102 [==============================] - 0s 0us/step\n",
            "4431872/4422102 [==============================] - 0s 0us/step\n"
          ]
        }
      ]
    },
    {
      "cell_type": "markdown",
      "source": [
        "Ranging 0-1"
      ],
      "metadata": {
        "id": "uT98n947yUWj"
      }
    },
    {
      "cell_type": "code",
      "source": [
        "X_train = X_train/255.0\n",
        "X_test  = X_test/255.0"
      ],
      "metadata": {
        "id": "IdW9mqr6TeQf"
      },
      "execution_count": 3,
      "outputs": []
    },
    {
      "cell_type": "code",
      "source": [
        "X_train.shape"
      ],
      "metadata": {
        "colab": {
          "base_uri": "https://localhost:8080/"
        },
        "id": "WpryYYHTbWtl",
        "outputId": "18f81460-2a01-45df-d21a-3a9a96de4a80"
      },
      "execution_count": 4,
      "outputs": [
        {
          "output_type": "execute_result",
          "data": {
            "text/plain": [
              "(60000, 28, 28)"
            ]
          },
          "metadata": {},
          "execution_count": 4
        }
      ]
    },
    {
      "cell_type": "code",
      "source": [
        "plt.matshow(X_train[0])"
      ],
      "metadata": {
        "id": "7sZ14qcokrcq",
        "outputId": "442672c0-f053-44bf-e65c-f79c09bf959d",
        "colab": {
          "base_uri": "https://localhost:8080/",
          "height": 293
        }
      },
      "execution_count": 5,
      "outputs": [
        {
          "output_type": "execute_result",
          "data": {
            "text/plain": [
              "<matplotlib.image.AxesImage at 0x7fc2b1eb09d0>"
            ]
          },
          "metadata": {},
          "execution_count": 5
        },
        {
          "output_type": "display_data",
          "data": {
            "text/plain": [
              "<Figure size 288x288 with 1 Axes>"
            ],
            "image/png": "[encoded data removed]"
          },
          "metadata": {
            "needs_background": "light"
          }
        }
      ]
    },
    {
      "cell_type": "markdown",
      "source": [
        "Model_Bulding"
      ],
      "metadata": {
        "id": "l89SdRQex8t2"
      }
    },
    {
      "cell_type": "code",
      "source": [
        "model = keras.Sequential([layers.Conv2D(filters = 28,kernel_size = (3,3), activation = 'relu',input_shape = (28,28,1)),\n",
        "                                         layers.Conv2D(filters = 56,kernel_size = (3,3),activation= 'relu'),\n",
        "                          layers.MaxPooling2D((2,2)),\n",
        "                          layers.MaxPooling2D((2,2)),layers.Flatten(),\n",
        "                          layers.Dense(10,activation ='softmax')])\n"
      ],
      "metadata": {
        "id": "M4RUvQXTR_Xu"
      },
      "execution_count": 6,
      "outputs": []
    },
    {
      "cell_type": "code",
      "source": [
        "model.compile(optimizer='adam',loss='sparse_categorical_crossentropy',metrics=['accuracy'])"
      ],
      "metadata": {
        "id": "u4VchZ8vZe1D"
      },
      "execution_count": 7,
      "outputs": []
    },
    {
      "cell_type": "markdown",
      "source": [
        "Training"
      ],
      "metadata": {
        "id": "Lrm5SPgVyeX7"
      }
    },
    {
      "cell_type": "code",
      "source": [
        "model.fit(X_train,y_train,epochs=7)"
      ],
      "metadata": {
        "colab": {
          "base_uri": "https://localhost:8080/"
        },
        "id": "uZrQeW7hahZR",
        "outputId": "2907b1b1-70d8-455d-e943-8f36c8909dc0"
      },
      "execution_count": 8,
      "outputs": [
        {
          "output_type": "stream",
          "name": "stdout",
          "text": [
            "Epoch 1/7\n",
            "1875/1875 [==============================] - 18s 3ms/step - loss: 0.4441 - accuracy: 0.8408\n",
            "Epoch 2/7\n",
            "1875/1875 [==============================] - 5s 3ms/step - loss: 0.2926 - accuracy: 0.8955\n",
            "Epoch 3/7\n",
            "1875/1875 [==============================] - 5s 3ms/step - loss: 0.2539 - accuracy: 0.9096\n",
            "Epoch 4/7\n",
            "1875/1875 [==============================] - 5s 3ms/step - loss: 0.2271 - accuracy: 0.9175\n",
            "Epoch 5/7\n",
            "1875/1875 [==============================] - 5s 3ms/step - loss: 0.2068 - accuracy: 0.9256\n",
            "Epoch 6/7\n",
            "1875/1875 [==============================] - 5s 3ms/step - loss: 0.1920 - accuracy: 0.9313\n",
            "Epoch 7/7\n",
            "1875/1875 [==============================] - 5s 3ms/step - loss: 0.1796 - accuracy: 0.9348\n"
          ]
        },
        {
          "output_type": "execute_result",
          "data": {
            "text/plain": [
              "<keras.callbacks.History at 0x7fc2a0071e10>"
            ]
          },
          "metadata": {},
          "execution_count": 8
        }
      ]
    },
    {
      "cell_type": "code",
      "source": [
        "model.evaluate(X_test,y_test)"
      ],
      "metadata": {
        "colab": {
          "base_uri": "https://localhost:8080/"
        },
        "id": "EwtgimCwfdeU",
        "outputId": "3a4168e0-418e-4fd7-f1ac-a95816a93831"
      },
      "execution_count": 9,
      "outputs": [
        {
          "output_type": "stream",
          "name": "stdout",
          "text": [
            "313/313 [==============================] - 1s 3ms/step - loss: 0.2798 - accuracy: 0.9011\n"
          ]
        },
        {
          "output_type": "execute_result",
          "data": {
            "text/plain": [
              "[0.2798195481300354, 0.9010999798774719]"
            ]
          },
          "metadata": {},
          "execution_count": 9
        }
      ]
    },
    {
      "cell_type": "markdown",
      "source": [
        "Testing"
      ],
      "metadata": {
        "id": "Qigno8jKyi9R"
      }
    },
    {
      "cell_type": "code",
      "source": [
        "predicted = model.predict(X_test)"
      ],
      "metadata": {
        "id": "1RVT2NApfi1U"
      },
      "execution_count": 11,
      "outputs": []
    },
    {
      "cell_type": "code",
      "source": [
        "predicted"
      ],
      "metadata": {
        "colab": {
          "base_uri": "https://localhost:8080/"
        },
        "id": "9yGtoMe2f8QZ",
        "outputId": "c02384fa-ac45-4b87-82e4-95f8a29103bb"
      },
      "execution_count": 58,
      "outputs": [
        {
          "output_type": "execute_result",
          "data": {
            "text/plain": [
              "array([[8.39146210e-08, 2.90314134e-10, 4.39368293e-08, ...,\n",
              "        9.96310846e-05, 2.91780839e-06, 9.99598324e-01],\n",
              "       [2.58791726e-04, 5.53536600e-12, 9.99657869e-01, ...,\n",
              "        5.25153492e-16, 3.20845794e-10, 2.97250159e-12],\n",
              "       [8.11598113e-08, 9.99999523e-01, 8.15954193e-10, ...,\n",
              "        6.45667656e-13, 1.41081680e-08, 5.48447843e-13],\n",
              "       ...,\n",
              "       [1.65448564e-05, 5.68107383e-09, 6.55274425e-06, ...,\n",
              "        1.50951723e-10, 9.99937415e-01, 4.10207077e-11],\n",
              "       [1.09029365e-07, 9.99998093e-01, 2.72174394e-10, ...,\n",
              "        2.05851516e-11, 1.86183333e-10, 1.97289979e-11],\n",
              "       [3.15777928e-04, 3.78142136e-06, 1.46917897e-04, ...,\n",
              "        1.60689298e-02, 7.83685502e-03, 5.28530043e-04]], dtype=float32)"
            ]
          },
          "metadata": {},
          "execution_count": 58
        }
      ]
    },
    {
      "cell_type": "markdown",
      "source": [
        "Testing"
      ],
      "metadata": {
        "id": "0UP2YAYPx3uV"
      }
    },
    {
      "cell_type": "code",
      "source": [
        "a = 1500\n",
        "plt.matshow(X_test[a])\n",
        "\n",
        "np.argmax([predicted[a]])\n",
        "\n",
        "if np.argmax([predicted[a]]) == 0:\n",
        " print(\"Hey,its my T-shirt\")\n",
        "\n",
        "elif np.argmax([predicted[a]]) == 1:\n",
        "  print(\"Hey,its my Trouser\")\n",
        "\n",
        "elif np.argmax([predicted[a]]) == 2:\n",
        "  print(\"Hey,its my pullover\")\n",
        "\n",
        "elif np.argmax([predicted[a]]) == 3:\n",
        "  print(\"Hey,its my Dress\")\n",
        "\n",
        "elif np.argmax([predicted[a]]) == 4:\n",
        "  print(\"Hey,its my Coat\")\n",
        "\n",
        "elif np.argmax([predicted[a]]) == 5:\n",
        "  print(\"Hey,its my Sandel\")\n",
        "\n",
        "elif np.argmax([predicted[a]]) == 6:\n",
        "  print(\"Hey,its my Shirt\")\n",
        "\n",
        "elif np.argmax([predicted[a]]) == 7:\n",
        "  print(\"Hey,its my Sneaker\")\n",
        "\n",
        "elif np.argmax([predicted[a]]) == 8:\n",
        "  print(\"Hey,its my Bag\")\n",
        "\n",
        "elif np.argmax([predicted[a]]) == 9:\n",
        "  print(\"Hey,its my Anklet boot\")\n",
        "\n",
        "else:\n",
        "  print(\"Its not my bucket\")"
      ],
      "metadata": {
        "colab": {
          "base_uri": "https://localhost:8080/",
          "height": 293
        },
        "id": "zHG-tnN_shee",
        "outputId": "d4ec896d-92d3-49a2-fb9b-16886d1e8f72"
      },
      "execution_count": 80,
      "outputs": [
        {
          "output_type": "stream",
          "name": "stdout",
          "text": [
            "Hey,its my Dress\n"
          ]
        },
        {
          "output_type": "display_data",
          "data": {
            "text/plain": [
              "<Figure size 288x288 with 1 Axes>"
            ],
            "image/png": "[encoded data removed]"
          },
          "metadata": {
            "needs_background": "light"
          }
        }
      ]
    },
    {
      "cell_type": "code",
      "source": [
        ""
      ],
      "metadata": {
        "id": "LQKeahgTtOY6"
      },
      "execution_count": null,
      "outputs": []
    }
  ]
}