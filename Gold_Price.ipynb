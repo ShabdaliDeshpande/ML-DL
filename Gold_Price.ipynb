{
  "nbformat": 4,
  "nbformat_minor": 0,
  "metadata": {
    "colab": {
      "name": "Gold_Price.ipynb",
      "provenance": [],
      "collapsed_sections": []
    },
    "kernelspec": {
      "name": "python3",
      "display_name": "Python 3"
    },
    "language_info": {
      "name": "python"
    }
  },
  "cells": [
    {
      "cell_type": "code",
      "execution_count": null,
      "metadata": {
        "id": "j-8sBqdiS_L8"
      },
      "outputs": [],
      "source": [
        "import numpy as np\n",
        "import pandas as pd\n",
        "import matplotlib.pyplot as plt\n",
        "import seaborn as sns\n",
        "from sklearn.ensemble import RandomForestRegressor\n",
        "from sklearn import metrics\n",
        "from sklearn.model_selection import train_test_split"
      ]
    },
    {
      "cell_type": "code",
      "source": [
        "gold_price = pd.read_csv('/content/gld_price_data.csv')"
      ],
      "metadata": {
        "id": "5dzfo96gT5Xa"
      },
      "execution_count": null,
      "outputs": []
    },
    {
      "cell_type": "code",
      "source": [
        "gold_price.head()"
      ],
      "metadata": {
        "colab": {
          "base_uri": "https://localhost:8080/",
          "height": 206
        },
        "id": "R_ZH4vOUUGV7",
        "outputId": "3d11b32f-cbe7-49ca-b4e7-06f196f6723a"
      },
      "execution_count": null,
      "outputs": [
        {
          "output_type": "execute_result",
          "data": {
            "text/html": [
              "<div>\n",
              "<style scoped>\n",
              "    .dataframe tbody tr th:only-of-type {\n",
              "        vertical-align: middle;\n",
              "    }\n",
              "\n",
              "    .dataframe tbody tr th {\n",
              "        vertical-align: top;\n",
              "    }\n",
              "\n",
              "    .dataframe thead th {\n",
              "        text-align: right;\n",
              "    }\n",
              "</style>\n",
              "<table border=\"1\" class=\"dataframe\">\n",
              "  <thead>\n",
              "    <tr style=\"text-align: right;\">\n",
              "      <th></th>\n",
              "      <th>Date</th>\n",
              "      <th>SPX</th>\n",
              "      <th>GLD</th>\n",
              "      <th>USO</th>\n",
              "      <th>SLV</th>\n",
              "      <th>EUR/USD</th>\n",
              "    </tr>\n",
              "  </thead>\n",
              "  <tbody>\n",
              "    <tr>\n",
              "      <th>0</th>\n",
              "      <td>1/2/2008</td>\n",
              "      <td>1447.160034</td>\n",
              "      <td>84.860001</td>\n",
              "      <td>78.470001</td>\n",
              "      <td>15.180</td>\n",
              "      <td>1.471692</td>\n",
              "    </tr>\n",
              "    <tr>\n",
              "      <th>1</th>\n",
              "      <td>1/3/2008</td>\n",
              "      <td>1447.160034</td>\n",
              "      <td>85.570000</td>\n",
              "      <td>78.370003</td>\n",
              "      <td>15.285</td>\n",
              "      <td>1.474491</td>\n",
              "    </tr>\n",
              "    <tr>\n",
              "      <th>2</th>\n",
              "      <td>1/4/2008</td>\n",
              "      <td>1411.630005</td>\n",
              "      <td>85.129997</td>\n",
              "      <td>77.309998</td>\n",
              "      <td>15.167</td>\n",
              "      <td>1.475492</td>\n",
              "    </tr>\n",
              "    <tr>\n",
              "      <th>3</th>\n",
              "      <td>1/7/2008</td>\n",
              "      <td>1416.180054</td>\n",
              "      <td>84.769997</td>\n",
              "      <td>75.500000</td>\n",
              "      <td>15.053</td>\n",
              "      <td>1.468299</td>\n",
              "    </tr>\n",
              "    <tr>\n",
              "      <th>4</th>\n",
              "      <td>1/8/2008</td>\n",
              "      <td>1390.189941</td>\n",
              "      <td>86.779999</td>\n",
              "      <td>76.059998</td>\n",
              "      <td>15.590</td>\n",
              "      <td>1.557099</td>\n",
              "    </tr>\n",
              "  </tbody>\n",
              "</table>\n",
              "</div>"
            ],
            "text/plain": [
              "       Date          SPX        GLD        USO     SLV   EUR/USD\n",
              "0  1/2/2008  1447.160034  84.860001  78.470001  15.180  1.471692\n",
              "1  1/3/2008  1447.160034  85.570000  78.370003  15.285  1.474491\n",
              "2  1/4/2008  1411.630005  85.129997  77.309998  15.167  1.475492\n",
              "3  1/7/2008  1416.180054  84.769997  75.500000  15.053  1.468299\n",
              "4  1/8/2008  1390.189941  86.779999  76.059998  15.590  1.557099"
            ]
          },
          "metadata": {},
          "execution_count": 4
        }
      ]
    },
    {
      "cell_type": "code",
      "source": [
        "gold_price.tail()"
      ],
      "metadata": {
        "colab": {
          "base_uri": "https://localhost:8080/",
          "height": 206
        },
        "id": "c7npk_WaUK1a",
        "outputId": "66b07c37-0155-4b9f-8f5f-64980fe62853"
      },
      "execution_count": null,
      "outputs": [
        {
          "output_type": "execute_result",
          "data": {
            "text/html": [
              "<div>\n",
              "<style scoped>\n",
              "    .dataframe tbody tr th:only-of-type {\n",
              "        vertical-align: middle;\n",
              "    }\n",
              "\n",
              "    .dataframe tbody tr th {\n",
              "        vertical-align: top;\n",
              "    }\n",
              "\n",
              "    .dataframe thead th {\n",
              "        text-align: right;\n",
              "    }\n",
              "</style>\n",
              "<table border=\"1\" class=\"dataframe\">\n",
              "  <thead>\n",
              "    <tr style=\"text-align: right;\">\n",
              "      <th></th>\n",
              "      <th>Date</th>\n",
              "      <th>SPX</th>\n",
              "      <th>GLD</th>\n",
              "      <th>USO</th>\n",
              "      <th>SLV</th>\n",
              "      <th>EUR/USD</th>\n",
              "    </tr>\n",
              "  </thead>\n",
              "  <tbody>\n",
              "    <tr>\n",
              "      <th>2285</th>\n",
              "      <td>5/8/2018</td>\n",
              "      <td>2671.919922</td>\n",
              "      <td>124.589996</td>\n",
              "      <td>14.0600</td>\n",
              "      <td>15.5100</td>\n",
              "      <td>1.186789</td>\n",
              "    </tr>\n",
              "    <tr>\n",
              "      <th>2286</th>\n",
              "      <td>5/9/2018</td>\n",
              "      <td>2697.790039</td>\n",
              "      <td>124.330002</td>\n",
              "      <td>14.3700</td>\n",
              "      <td>15.5300</td>\n",
              "      <td>1.184722</td>\n",
              "    </tr>\n",
              "    <tr>\n",
              "      <th>2287</th>\n",
              "      <td>5/10/2018</td>\n",
              "      <td>2723.070068</td>\n",
              "      <td>125.180000</td>\n",
              "      <td>14.4100</td>\n",
              "      <td>15.7400</td>\n",
              "      <td>1.191753</td>\n",
              "    </tr>\n",
              "    <tr>\n",
              "      <th>2288</th>\n",
              "      <td>5/14/2018</td>\n",
              "      <td>2730.129883</td>\n",
              "      <td>124.489998</td>\n",
              "      <td>14.3800</td>\n",
              "      <td>15.5600</td>\n",
              "      <td>1.193118</td>\n",
              "    </tr>\n",
              "    <tr>\n",
              "      <th>2289</th>\n",
              "      <td>5/16/2018</td>\n",
              "      <td>2725.780029</td>\n",
              "      <td>122.543800</td>\n",
              "      <td>14.4058</td>\n",
              "      <td>15.4542</td>\n",
              "      <td>1.182033</td>\n",
              "    </tr>\n",
              "  </tbody>\n",
              "</table>\n",
              "</div>"
            ],
            "text/plain": [
              "           Date          SPX         GLD      USO      SLV   EUR/USD\n",
              "2285   5/8/2018  2671.919922  124.589996  14.0600  15.5100  1.186789\n",
              "2286   5/9/2018  2697.790039  124.330002  14.3700  15.5300  1.184722\n",
              "2287  5/10/2018  2723.070068  125.180000  14.4100  15.7400  1.191753\n",
              "2288  5/14/2018  2730.129883  124.489998  14.3800  15.5600  1.193118\n",
              "2289  5/16/2018  2725.780029  122.543800  14.4058  15.4542  1.182033"
            ]
          },
          "metadata": {},
          "execution_count": 5
        }
      ]
    },
    {
      "cell_type": "code",
      "source": [
        "gold_price.info()"
      ],
      "metadata": {
        "colab": {
          "base_uri": "https://localhost:8080/"
        },
        "id": "ZKi26nQJUOkd",
        "outputId": "197f11a0-67c2-450a-ddfa-7a3b4b2ccb66"
      },
      "execution_count": null,
      "outputs": [
        {
          "output_type": "stream",
          "name": "stdout",
          "text": [
            "<class 'pandas.core.frame.DataFrame'>\n",
            "RangeIndex: 2290 entries, 0 to 2289\n",
            "Data columns (total 6 columns):\n",
            " #   Column   Non-Null Count  Dtype  \n",
            "---  ------   --------------  -----  \n",
            " 0   Date     2290 non-null   object \n",
            " 1   SPX      2290 non-null   float64\n",
            " 2   GLD      2290 non-null   float64\n",
            " 3   USO      2290 non-null   float64\n",
            " 4   SLV      2290 non-null   float64\n",
            " 5   EUR/USD  2290 non-null   float64\n",
            "dtypes: float64(5), object(1)\n",
            "memory usage: 107.5+ KB\n"
          ]
        }
      ]
    },
    {
      "cell_type": "code",
      "source": [
        "gold_price.describe()"
      ],
      "metadata": {
        "colab": {
          "base_uri": "https://localhost:8080/",
          "height": 300
        },
        "id": "_au-zPQJUTCh",
        "outputId": "0c2ddf39-3389-41fe-dfd8-84c4cecf196a"
      },
      "execution_count": null,
      "outputs": [
        {
          "output_type": "execute_result",
          "data": {
            "text/html": [
              "<div>\n",
              "<style scoped>\n",
              "    .dataframe tbody tr th:only-of-type {\n",
              "        vertical-align: middle;\n",
              "    }\n",
              "\n",
              "    .dataframe tbody tr th {\n",
              "        vertical-align: top;\n",
              "    }\n",
              "\n",
              "    .dataframe thead th {\n",
              "        text-align: right;\n",
              "    }\n",
              "</style>\n",
              "<table border=\"1\" class=\"dataframe\">\n",
              "  <thead>\n",
              "    <tr style=\"text-align: right;\">\n",
              "      <th></th>\n",
              "      <th>SPX</th>\n",
              "      <th>GLD</th>\n",
              "      <th>USO</th>\n",
              "      <th>SLV</th>\n",
              "      <th>EUR/USD</th>\n",
              "    </tr>\n",
              "  </thead>\n",
              "  <tbody>\n",
              "    <tr>\n",
              "      <th>count</th>\n",
              "      <td>2290.000000</td>\n",
              "      <td>2290.000000</td>\n",
              "      <td>2290.000000</td>\n",
              "      <td>2290.000000</td>\n",
              "      <td>2290.000000</td>\n",
              "    </tr>\n",
              "    <tr>\n",
              "      <th>mean</th>\n",
              "      <td>1654.315776</td>\n",
              "      <td>122.732875</td>\n",
              "      <td>31.842221</td>\n",
              "      <td>20.084997</td>\n",
              "      <td>1.283653</td>\n",
              "    </tr>\n",
              "    <tr>\n",
              "      <th>std</th>\n",
              "      <td>519.111540</td>\n",
              "      <td>23.283346</td>\n",
              "      <td>19.523517</td>\n",
              "      <td>7.092566</td>\n",
              "      <td>0.131547</td>\n",
              "    </tr>\n",
              "    <tr>\n",
              "      <th>min</th>\n",
              "      <td>676.530029</td>\n",
              "      <td>70.000000</td>\n",
              "      <td>7.960000</td>\n",
              "      <td>8.850000</td>\n",
              "      <td>1.039047</td>\n",
              "    </tr>\n",
              "    <tr>\n",
              "      <th>25%</th>\n",
              "      <td>1239.874969</td>\n",
              "      <td>109.725000</td>\n",
              "      <td>14.380000</td>\n",
              "      <td>15.570000</td>\n",
              "      <td>1.171313</td>\n",
              "    </tr>\n",
              "    <tr>\n",
              "      <th>50%</th>\n",
              "      <td>1551.434998</td>\n",
              "      <td>120.580002</td>\n",
              "      <td>33.869999</td>\n",
              "      <td>17.268500</td>\n",
              "      <td>1.303296</td>\n",
              "    </tr>\n",
              "    <tr>\n",
              "      <th>75%</th>\n",
              "      <td>2073.010070</td>\n",
              "      <td>132.840004</td>\n",
              "      <td>37.827501</td>\n",
              "      <td>22.882499</td>\n",
              "      <td>1.369971</td>\n",
              "    </tr>\n",
              "    <tr>\n",
              "      <th>max</th>\n",
              "      <td>2872.870117</td>\n",
              "      <td>184.589996</td>\n",
              "      <td>117.480003</td>\n",
              "      <td>47.259998</td>\n",
              "      <td>1.598798</td>\n",
              "    </tr>\n",
              "  </tbody>\n",
              "</table>\n",
              "</div>"
            ],
            "text/plain": [
              "               SPX          GLD          USO          SLV      EUR/USD\n",
              "count  2290.000000  2290.000000  2290.000000  2290.000000  2290.000000\n",
              "mean   1654.315776   122.732875    31.842221    20.084997     1.283653\n",
              "std     519.111540    23.283346    19.523517     7.092566     0.131547\n",
              "min     676.530029    70.000000     7.960000     8.850000     1.039047\n",
              "25%    1239.874969   109.725000    14.380000    15.570000     1.171313\n",
              "50%    1551.434998   120.580002    33.869999    17.268500     1.303296\n",
              "75%    2073.010070   132.840004    37.827501    22.882499     1.369971\n",
              "max    2872.870117   184.589996   117.480003    47.259998     1.598798"
            ]
          },
          "metadata": {},
          "execution_count": 7
        }
      ]
    },
    {
      "cell_type": "code",
      "source": [
        "gold_price.isnull().sum()"
      ],
      "metadata": {
        "colab": {
          "base_uri": "https://localhost:8080/"
        },
        "id": "cntbU9vbUYLA",
        "outputId": "f78c791a-5f8d-449d-bb13-cb6a39853a8a"
      },
      "execution_count": null,
      "outputs": [
        {
          "output_type": "execute_result",
          "data": {
            "text/plain": [
              "Date       0\n",
              "SPX        0\n",
              "GLD        0\n",
              "USO        0\n",
              "SLV        0\n",
              "EUR/USD    0\n",
              "dtype: int64"
            ]
          },
          "metadata": {},
          "execution_count": 8
        }
      ]
    },
    {
      "cell_type": "code",
      "source": [
        "gold_price.shape"
      ],
      "metadata": {
        "colab": {
          "base_uri": "https://localhost:8080/"
        },
        "id": "SznqHOQHVdd9",
        "outputId": "7206f238-41bb-4175-bdd5-aa7a055f4fa3"
      },
      "execution_count": null,
      "outputs": [
        {
          "output_type": "execute_result",
          "data": {
            "text/plain": [
              "(2290, 6)"
            ]
          },
          "metadata": {},
          "execution_count": 11
        }
      ]
    },
    {
      "cell_type": "code",
      "source": [
        "correlation = gold_price.corr()"
      ],
      "metadata": {
        "id": "neVn7MNJVgfo"
      },
      "execution_count": null,
      "outputs": []
    },
    {
      "cell_type": "code",
      "source": [
        "print(correlation)"
      ],
      "metadata": {
        "colab": {
          "base_uri": "https://localhost:8080/"
        },
        "id": "vRGpzzaTVl6a",
        "outputId": "05d316bf-dc35-4bb5-bfcd-b92ce5e648c1"
      },
      "execution_count": null,
      "outputs": [
        {
          "output_type": "stream",
          "name": "stdout",
          "text": [
            "              SPX       GLD       USO       SLV   EUR/USD\n",
            "SPX      1.000000  0.049345 -0.591573 -0.274055 -0.672017\n",
            "GLD      0.049345  1.000000 -0.186360  0.866632 -0.024375\n",
            "USO     -0.591573 -0.186360  1.000000  0.167547  0.829317\n",
            "SLV     -0.274055  0.866632  0.167547  1.000000  0.321631\n",
            "EUR/USD -0.672017 -0.024375  0.829317  0.321631  1.000000\n"
          ]
        }
      ]
    },
    {
      "cell_type": "code",
      "source": [
        ""
      ],
      "metadata": {
        "id": "Q6km4EedVrgP"
      },
      "execution_count": null,
      "outputs": []
    },
    {
      "cell_type": "code",
      "source": [
        "sns.displot(gold_price['GLD'],color='blue',)"
      ],
      "metadata": {
        "colab": {
          "base_uri": "https://localhost:8080/",
          "height": 387
        },
        "id": "MXw_J4HQUgn2",
        "outputId": "4f76c463-6fed-431a-a0e1-a399d2a91af8"
      },
      "execution_count": null,
      "outputs": [
        {
          "output_type": "execute_result",
          "data": {
            "text/plain": [
              "<seaborn.axisgrid.FacetGrid at 0x7f750ad78390>"
            ]
          },
          "metadata": {},
          "execution_count": 14
        },
        {
          "output_type": "display_data",
          "data": {
            "image/png": "[encoded data removed]",
            "text/plain": [
              "<Figure size 360x360 with 1 Axes>"
            ]
          },
          "metadata": {
            "needs_background": "light"
          }
        }
      ]
    },
    {
      "cell_type": "code",
      "source": [
        "plt.figure(figsize =(8,8))\n",
        "\n",
        "sns.heatmap(correlation,cbar=True,square=True,fmt ='.1f',annot=True,annot_kws={'size':8},cmap='Greens')\n",
        "\n",
        "'''plt.figure(figsize = (8,8))\n",
        "sns.heatmap(correlation, cbar=True, square=True, fmt='.1f',annot=True, annot_kws={'size':8}, cmap='Blues')'''"
      ],
      "metadata": {
        "colab": {
          "base_uri": "https://localhost:8080/",
          "height": 505
        },
        "id": "biBrC17hZM4L",
        "outputId": "b40c9a72-c5d8-424f-ee4a-61d7075ba355"
      },
      "execution_count": null,
      "outputs": [
        {
          "output_type": "execute_result",
          "data": {
            "application/vnd.google.colaboratory.intrinsic+json": {
              "type": "string"
            },
            "text/plain": [
              "\"plt.figure(figsize = (8,8))\\nsns.heatmap(correlation, cbar=True, square=True, fmt='.1f',annot=True, annot_kws={'size':8}, cmap='Blues')\""
            ]
          },
          "metadata": {},
          "execution_count": 41
        },
        {
          "output_type": "display_data",
          "data": {
            "image/png": "[encoded data removed]",
            "text/plain": [
              "<Figure size 576x576 with 2 Axes>"
            ]
          },
          "metadata": {
            "needs_background": "light"
          }
        }
      ]
    },
    {
      "cell_type": "code",
      "source": [
        "X = gold_price.drop(['GLD','Date'],axis=1)\n",
        "\n",
        "Y = gold_price['GLD']"
      ],
      "metadata": {
        "id": "U-8xUceXV41U"
      },
      "execution_count": null,
      "outputs": []
    },
    {
      "cell_type": "code",
      "source": [
        "print(X)\n",
        "print(Y)"
      ],
      "metadata": {
        "colab": {
          "base_uri": "https://localhost:8080/"
        },
        "id": "yEhUBJd-WFum",
        "outputId": "ba5a40f7-02c9-4ba0-a86a-b27ae5853ec6"
      },
      "execution_count": null,
      "outputs": [
        {
          "output_type": "stream",
          "name": "stdout",
          "text": [
            "              SPX        USO      SLV   EUR/USD\n",
            "0     1447.160034  78.470001  15.1800  1.471692\n",
            "1     1447.160034  78.370003  15.2850  1.474491\n",
            "2     1411.630005  77.309998  15.1670  1.475492\n",
            "3     1416.180054  75.500000  15.0530  1.468299\n",
            "4     1390.189941  76.059998  15.5900  1.557099\n",
            "...           ...        ...      ...       ...\n",
            "2285  2671.919922  14.060000  15.5100  1.186789\n",
            "2286  2697.790039  14.370000  15.5300  1.184722\n",
            "2287  2723.070068  14.410000  15.7400  1.191753\n",
            "2288  2730.129883  14.380000  15.5600  1.193118\n",
            "2289  2725.780029  14.405800  15.4542  1.182033\n",
            "\n",
            "[2290 rows x 4 columns]\n",
            "0        84.860001\n",
            "1        85.570000\n",
            "2        85.129997\n",
            "3        84.769997\n",
            "4        86.779999\n",
            "           ...    \n",
            "2285    124.589996\n",
            "2286    124.330002\n",
            "2287    125.180000\n",
            "2288    124.489998\n",
            "2289    122.543800\n",
            "Name: GLD, Length: 2290, dtype: float64\n"
          ]
        }
      ]
    },
    {
      "cell_type": "code",
      "source": [
        "X_train,X_test,Y_train,Y_test = train_test_split(X,Y,test_size=0.2,random_state=2)"
      ],
      "metadata": {
        "id": "eqLZCKpoWa8G"
      },
      "execution_count": null,
      "outputs": []
    },
    {
      "cell_type": "code",
      "source": [
        "Regressor = RandomForestRegressor(n_estimators=100)"
      ],
      "metadata": {
        "id": "6lt8i9k8W_1x"
      },
      "execution_count": null,
      "outputs": []
    },
    {
      "cell_type": "code",
      "source": [
        "Regressor.fit(X_test,Y_test)"
      ],
      "metadata": {
        "colab": {
          "base_uri": "https://localhost:8080/"
        },
        "id": "1ByWMTk0XKHX",
        "outputId": "1710460c-4265-4a7b-91d9-c17fd19703dd"
      },
      "execution_count": null,
      "outputs": [
        {
          "output_type": "execute_result",
          "data": {
            "text/plain": [
              "RandomForestRegressor()"
            ]
          },
          "metadata": {},
          "execution_count": 24
        }
      ]
    },
    {
      "cell_type": "code",
      "source": [
        "X_prediction = Regressor.predict(X_test)"
      ],
      "metadata": {
        "id": "0tf0LF99XSkN"
      },
      "execution_count": null,
      "outputs": []
    },
    {
      "cell_type": "code",
      "source": [
        "print(X_prediction)"
      ],
      "metadata": {
        "colab": {
          "base_uri": "https://localhost:8080/"
        },
        "id": "LHqckVGpXc7A",
        "outputId": "16403f9b-ec22-4d3a-d561-c5adaef57757"
      },
      "execution_count": null,
      "outputs": [
        {
          "output_type": "stream",
          "name": "stdout",
          "text": [
            "[167.3925026   83.92650193 111.95270009 126.78459816 120.14890191\n",
            " 154.02900521 148.78330218 125.45910144 117.69510073 126.07949809\n",
            " 115.24189817 169.12629702 139.84050142 165.81179939 116.59529894\n",
            " 119.18819872 140.51979907 169.45419609 159.87379622 166.46629938\n",
            " 154.48520076 126.7918969  174.82460055 154.27090207 125.13963694\n",
            "  93.90890142  77.77420057 120.46670108 118.64999862 166.92969996\n",
            "  88.02110049 124.96263979  91.62320196 114.63439915 120.38209874\n",
            " 134.14169782 117.3230011  115.25389891 139.22080075 107.13670096\n",
            " 104.201002    87.44749947 126.3851998  116.14310042 155.54449825\n",
            " 120.23559885 108.8567025  108.38070166  93.439998   126.88110225\n",
            "  73.3890007  114.00370053 119.77609968 110.22109936 119.34839927\n",
            " 121.38050202 160.11169923 159.03470301 146.26480371  85.8544989\n",
            "  94.09009856  85.96190189  91.22889905 116.53479889 126.24899814\n",
            " 128.09920149 167.49199764 122.16563917 117.0830025   98.45209925\n",
            " 163.69820303 144.68460022 131.7250988  121.11400034 124.31919977\n",
            " 121.08509783 114.15689875 117.43689884 106.33459959 127.8313983\n",
            " 114.42990031 107.15549848 116.49940017 119.92640184  87.26520071\n",
            "  87.06410118 147.31689908 127.77929799 113.24170115 108.13650026\n",
            " 108.22810057  76.33680058 169.05230197 114.62339895 121.66403927\n",
            " 128.25789973 155.6263042   91.73460201 136.67309718 160.86139983\n",
            " 127.57639989 125.61830026 132.02139713 114.2997979  119.01890161\n",
            "  93.02339955 109.79480157 165.82309549 155.47130227 115.54230123\n",
            " 106.80529838  80.32909888 114.88540158 125.85770012 106.28330137\n",
            " 120.03320163 155.13239972 160.35019829 120.72407498 137.07590481\n",
            " 101.56919783 116.82320088 118.14389854 112.31500165 102.69229775\n",
            " 160.56119856  98.54960171 149.26830113 125.3477003  169.0104999\n",
            " 124.29080074 126.86390015 127.55559912 114.56340138 111.93020081\n",
            " 123.7039981  101.0515998   89.71500069 125.02849837  98.94720071\n",
            " 107.18169831 112.8937     120.10009946  98.68299926 122.03949875\n",
            " 163.36880292  86.70820147 106.19500084 116.49010038 128.05259874\n",
            " 123.290501    81.5650011  119.82809984 160.01479816  88.54680071\n",
            " 109.97900268 117.83800176 169.80909951 102.52059709 105.45219768\n",
            " 123.00980163 160.4130012   87.24639799  93.84160137 112.41630007\n",
            " 171.01980073 114.99200191 119.08709781  94.07309849 125.66049741\n",
            " 164.99699713 115.70920088 116.7983018   87.07410069 150.036\n",
            " 119.25070125  89.61399819 113.60280117 116.20979895 118.80609852\n",
            "  86.90019876  94.60010075 117.54490226 118.45140206 121.61260217\n",
            " 127.65010232 122.23589848 142.23180474 164.11780446 118.55050041\n",
            " 121.06520235 152.27509693 117.28130001 163.77769899 101.33460236\n",
            " 104.91169774 150.50510371 111.33059871 125.03433874 146.21979713\n",
            " 120.09380083 115.65889989 113.63070002 113.18310128 136.35480149\n",
            " 117.76439937 103.2468001  116.15609754 103.16460063  98.89940133\n",
            " 116.50679685  91.91109781  91.725701   154.38939893 102.61189872\n",
            " 151.97940273 113.76720035 143.72219722  90.93120133 115.80180077\n",
            " 115.61069843 122.38395596 122.1947005  165.462203    94.71699817\n",
            " 136.0727023  121.45333664 119.80380155 104.05719885 135.43400306\n",
            " 123.22209851 115.87220101 112.6522013  125.37039793 123.36159904\n",
            " 126.05979913 121.55903644  85.86519973 132.08519759 148.06569685\n",
            "  92.56999832 153.17949981 161.35890299 126.98789795 165.69060512\n",
            " 110.02639875 110.92770094 104.53409946  95.32519868 129.30679985\n",
            " 107.95349802 151.39549731 121.80400115 131.57789731 131.84780283\n",
            " 160.89020287  90.21000001 169.69509985 127.14879736 126.99170165\n",
            "  86.95469915 122.47130136 149.8268991   89.60279783 107.13330191\n",
            " 110.07639762  88.00830029 136.35199665 154.84990035 135.32860376\n",
            "  74.89020126 152.34449964 126.36879856 125.97399941 127.75140038\n",
            " 108.30540007 156.44140532 114.49470012 117.87639857 126.58289995\n",
            " 154.69280343 120.62087728 156.21290373  93.0898007  125.4263993\n",
            " 126.06259856  88.85979983  92.4823     126.33239723 127.86099712\n",
            " 113.03279918 116.3680008  119.83429846 127.45629552 121.5543024\n",
            " 135.11069836  94.32420164 118.84380132 111.74420133  94.31639984\n",
            " 108.39969765  88.00669953 110.72260159  89.15079987  94.56289836\n",
            " 132.12370495 162.54409863  89.94420196 120.1036515  130.93420034\n",
            " 124.40219792 127.73959822 101.44609935  88.92119996 133.88599737\n",
            " 121.94500144 110.11970006 169.30540423 115.40469938  85.76679919\n",
            " 120.96509977  90.52030083 161.99060269 116.59509739 120.46893908\n",
            " 160.08480226 117.08629913 113.91949769 109.36560152 126.43859919\n",
            "  75.9933985  102.44060006 129.46189744 121.1609127   91.81189811\n",
            " 135.1079971  117.75250086 116.82520081 155.58420023 158.75000306\n",
            " 110.07449961 143.87840228 119.38190076 161.62570278 118.62320148\n",
            " 158.56099787 114.70760004 118.11230143 149.31240255 115.2293012\n",
            " 125.85950226 165.99339832 117.25740054 125.39029977 153.75489804\n",
            " 153.89200221 132.45609794 114.87179919 120.17219941 125.94880023\n",
            "  91.96829782 122.07139801 153.25010351 111.69979862 106.51359809\n",
            " 162.27179674 119.34170139 165.85240246 132.1419052  115.66179957\n",
            " 151.14630359 168.85829578 110.59300017 114.92229823 158.71859905\n",
            "  85.54100063 127.78950074 127.39519744 128.52800483 124.37630094\n",
            " 124.17280179  90.84099905 152.75449837  95.77299673 140.47189655\n",
            "  90.51470014 107.16039938 115.45910051 111.5560009  125.61939822\n",
            "  90.81129865 125.82510204 162.50150227 117.68429971 165.64260428\n",
            " 127.647701   111.95969964 127.46630211  96.41680229  90.21670168\n",
            "  99.77969862 120.11489837  81.35139794 125.41790191 160.61559601\n",
            " 116.83839907 117.81990176 119.7401012  121.90650141 119.54790173\n",
            " 121.10387564 118.63389878 107.47379822 146.91040364 123.81690095\n",
            " 115.84519991  72.72379977 127.9539044  152.62299781 121.83420038\n",
            " 126.64989863  89.20130146 102.58430141 125.38459973 119.81600281\n",
            "  72.79930154 150.68430077 119.90589967 104.53519816  85.9053017\n",
            " 114.26270118 171.21360193 121.0596018  161.48349563 112.93049768\n",
            " 120.95359922 119.73200172  95.54849775 120.06930162 125.43830063\n",
            " 118.6886009   97.37840239 154.20299599 120.72479795 144.40600051\n",
            " 157.84759761 109.77759857 122.01790254 148.2115031  126.87779861\n",
            " 164.53539771 134.38099527 121.66559908 166.48320347 107.23499866\n",
            " 121.75839906 134.4395015  101.62940068]\n"
          ]
        }
      ]
    },
    {
      "cell_type": "code",
      "source": [
        "error = metrics.r2_score(X_prediction,Y_test)\n",
        "\n",
        "print(\"The error Score is :\",error)"
      ],
      "metadata": {
        "colab": {
          "base_uri": "https://localhost:8080/"
        },
        "id": "PFwe7dDNXjCk",
        "outputId": "e81a5086-994d-49a4-fb34-b50cf91a3e10"
      },
      "execution_count": null,
      "outputs": [
        {
          "output_type": "stream",
          "name": "stdout",
          "text": [
            "The error Score is : 0.9961666463288473\n"
          ]
        }
      ]
    },
    {
      "cell_type": "code",
      "source": [
        "Y_test = list(Y_test)\n",
        "plt.plot(Y_test)\n",
        "plt.plot(X_prediction)\n",
        "plt.xlabel('Gold_Valuse')\n",
        "plt.ylabel('ACtual_Values')\n",
        "plt.title('Predicted_VS_Actual_Gold_values')"
      ],
      "metadata": {
        "colab": {
          "base_uri": "https://localhost:8080/",
          "height": 313
        },
        "id": "bmsYHPJuXx4m",
        "outputId": "b854e420-e5a5-4793-c4b8-ae4a3d3ba200"
      },
      "execution_count": null,
      "outputs": [
        {
          "output_type": "execute_result",
          "data": {
            "text/plain": [
              "Text(0.5, 1.0, 'Predicted_VS_Actual_Gold_values')"
            ]
          },
          "metadata": {},
          "execution_count": 32
        },
        {
          "output_type": "display_data",
          "data": {
            "image/png": "[encoded data removed]",
            "text/plain": [
              "<Figure size 432x288 with 1 Axes>"
            ]
          },
          "metadata": {
            "needs_background": "light"
          }
        }
      ]
    }
  ]
}